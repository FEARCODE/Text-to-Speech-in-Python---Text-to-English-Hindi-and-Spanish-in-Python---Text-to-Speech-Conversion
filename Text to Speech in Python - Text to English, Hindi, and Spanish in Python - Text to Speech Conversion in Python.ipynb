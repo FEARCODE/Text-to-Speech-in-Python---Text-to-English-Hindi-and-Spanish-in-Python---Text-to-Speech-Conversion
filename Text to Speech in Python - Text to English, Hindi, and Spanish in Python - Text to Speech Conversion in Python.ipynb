{
 "cells": [
  {
   "cell_type": "code",
   "execution_count": 50,
   "metadata": {},
   "outputs": [],
   "source": [
    "# !pip install gTTS\n",
    "# https://pypi.org/project/gTTS/\n",
    "# language codes: https://www.science.co.il/language/Codes.php"
   ]
  },
  {
   "cell_type": "markdown",
   "metadata": {},
   "source": [
    "### Google Text to Speech Library "
   ]
  },
  {
   "cell_type": "code",
   "execution_count": 51,
   "metadata": {},
   "outputs": [],
   "source": [
    "from gtts import gTTS\n",
    "import os"
   ]
  },
  {
   "cell_type": "code",
   "execution_count": 63,
   "metadata": {},
   "outputs": [],
   "source": [
    "eng = \"Hello, I welcome you in this lesson, Please don't forget to like this video\""
   ]
  },
  {
   "cell_type": "code",
   "execution_count": 64,
   "metadata": {},
   "outputs": [],
   "source": [
    "obj = gTTS(text=eng, slow = False, lang='en')"
   ]
  },
  {
   "cell_type": "code",
   "execution_count": 65,
   "metadata": {},
   "outputs": [],
   "source": [
    "obj.save('eng.mp3')"
   ]
  },
  {
   "cell_type": "code",
   "execution_count": null,
   "metadata": {},
   "outputs": [],
   "source": []
  },
  {
   "cell_type": "markdown",
   "metadata": {},
   "source": [
    "#### Hindi "
   ]
  },
  {
   "cell_type": "code",
   "execution_count": 66,
   "metadata": {},
   "outputs": [],
   "source": [
    "hindi = \"नमस्कार, मैं इस पाठ में आपका स्वागत करता हूं, कृपया इस वीडियो को लाइक करना न भूलें\"\n",
    "obj = gTTS(text=hindi, slow = False, lang='hi')\n",
    "obj.save('hindi.mp3')"
   ]
  },
  {
   "cell_type": "code",
   "execution_count": null,
   "metadata": {},
   "outputs": [],
   "source": []
  },
  {
   "cell_type": "markdown",
   "metadata": {},
   "source": [
    "#### Spanish"
   ]
  },
  {
   "cell_type": "code",
   "execution_count": 67,
   "metadata": {},
   "outputs": [],
   "source": [
    "spanish = \"Hola, te doy la bienvenida en esta lección, no olvides que te gusta este video.\"\n",
    "obj = gTTS(text=spanish, slow = False, lang='es')\n",
    "obj.save('spanish.mp3')"
   ]
  },
  {
   "cell_type": "code",
   "execution_count": null,
   "metadata": {},
   "outputs": [],
   "source": []
  },
  {
   "cell_type": "code",
   "execution_count": null,
   "metadata": {},
   "outputs": [],
   "source": []
  },
  {
   "cell_type": "markdown",
   "metadata": {},
   "source": [
    "### pyTTSx library "
   ]
  },
  {
   "cell_type": "code",
   "execution_count": 52,
   "metadata": {
    "scrolled": true
   },
   "outputs": [
    {
     "name": "stdout",
     "output_type": "stream",
     "text": [
      "Collecting pyttsx3\n",
      "  Downloading https://files.pythonhosted.org/packages/2f/ca/019a5d782f355bc2040ac45bd9612995652934dc16e48873d3fb2e367547/pyttsx3-2.71-py3-none-any.whl\n",
      "Collecting pyobjc>=2.4; \"darwin\" in sys_platform (from pyttsx3)\n",
      "  Downloading https://files.pythonhosted.org/packages/cc/11/695d6f0040930b3633dd7eba0c87cbbb46d7656497f52296cb8396a0000e/pyobjc-5.2-py3-none-any.whl\n",
      "Collecting pyobjc-framework-InstallerPlugins==5.2 (from pyobjc>=2.4; \"darwin\" in sys_platform->pyttsx3)\n",
      "  Downloading https://files.pythonhosted.org/packages/c4/39/446f25eb8438b043e044a85ac6d5f5465c00772dbc85d9258c61fe753c40/pyobjc_framework_InstallerPlugins-5.2-py2.py3-none-any.whl\n",
      "Collecting pyobjc-framework-InputMethodKit==5.2; platform_release >= \"9.0\" (from pyobjc>=2.4; \"darwin\" in sys_platform->pyttsx3)\n",
      "  Downloading https://files.pythonhosted.org/packages/b2/d7/0a5c734a259c14e9cc4f645d8cbe8945135fcdd899056832183086aa4989/pyobjc_framework_InputMethodKit-5.2-cp37-cp37m-macosx_10_9_x86_64.whl\n",
      "Collecting pyobjc-framework-CryptoTokenKit==5.2; platform_release >= \"14.0\" (from pyobjc>=2.4; \"darwin\" in sys_platform->pyttsx3)\n",
      "  Downloading https://files.pythonhosted.org/packages/ac/f3/d08191a63da2afd5736da6413b46d7b15f75e36dd6b9114175c2e66f1fae/pyobjc_framework_CryptoTokenKit-5.2-cp37-cp37m-macosx_10_9_x86_64.whl\n",
      "Collecting pyobjc-framework-NetFS==5.2; platform_release >= \"10.0\" (from pyobjc>=2.4; \"darwin\" in sys_platform->pyttsx3)\n",
      "  Downloading https://files.pythonhosted.org/packages/0e/a6/81c0c6c5e90c43474acd76dc95ce8044a929d3be68a2c26390b7d733268b/pyobjc_framework_NetFS-5.2-py2.py3-none-any.whl\n",
      "Collecting pyobjc-framework-Photos==5.2; platform_release >= \"15.0\" (from pyobjc>=2.4; \"darwin\" in sys_platform->pyttsx3)\n",
      "  Downloading https://files.pythonhosted.org/packages/c6/6c/4a8e4d70ad33a11f17365f7370ec696eba9445df3e840487bea96aaca3a3/pyobjc_framework_Photos-5.2-cp37-cp37m-macosx_10_9_x86_64.whl\n",
      "Collecting pyobjc-framework-ColorSync==5.2; platform_release >= \"17.0\" (from pyobjc>=2.4; \"darwin\" in sys_platform->pyttsx3)\n",
      "  Downloading https://files.pythonhosted.org/packages/87/a7/95fafa323d82275408ce997c196b8ba50b1daaaafdc7d3c1f98e03b5b60e/pyobjc_framework_ColorSync-5.2-py2.py3-none-any.whl\n",
      "Collecting pyobjc-framework-FinderSync==5.2; platform_release >= \"14.0\" (from pyobjc>=2.4; \"darwin\" in sys_platform->pyttsx3)\n",
      "  Downloading https://files.pythonhosted.org/packages/03/c5/550aaba750e063ff7abdc1153f99d9439ecbd87b1f9848d7244b912b222a/pyobjc_framework_FinderSync-5.2-py2.py3-none-any.whl\n",
      "Collecting pyobjc-framework-Contacts==5.2; platform_release >= \"15.0\" (from pyobjc>=2.4; \"darwin\" in sys_platform->pyttsx3)\n",
      "  Downloading https://files.pythonhosted.org/packages/b6/83/038f51cda760e79a4bba2e1dc659c6d5e6354bebf9764ef1b31c101a236b/pyobjc_framework_Contacts-5.2-cp37-cp37m-macosx_10_9_x86_64.whl\n",
      "Collecting pyobjc-framework-SafariServices==5.2; platform_release >= \"15.0\" (from pyobjc>=2.4; \"darwin\" in sys_platform->pyttsx3)\n",
      "  Downloading https://files.pythonhosted.org/packages/c0/3a/cd5bc9af37f3bff0a97445d8a12bc7fb743d636800fa50701752c1b990d2/pyobjc_framework_SafariServices-5.2-cp37-cp37m-macosx_10_9_x86_64.whl\n",
      "Collecting pyobjc-framework-ImageCaptureCore==5.2; platform_release >= \"10.0\" (from pyobjc>=2.4; \"darwin\" in sys_platform->pyttsx3)\n",
      "  Downloading https://files.pythonhosted.org/packages/01/37/de26db8082e0c719d418d298166a91b551f77a7060ab1bdacd68e4e4cbdd/pyobjc_framework_ImageCaptureCore-5.2-cp37-cp37m-macosx_10_9_x86_64.whl\n",
      "Collecting pyobjc-framework-DictionaryServices==5.2; platform_release >= \"9.0\" (from pyobjc>=2.4; \"darwin\" in sys_platform->pyttsx3)\n",
      "  Downloading https://files.pythonhosted.org/packages/65/1b/bb229f5b345b33098a06922750774479c0d56df526d62182ef7af7d27fd8/pyobjc_framework_DictionaryServices-5.2-py2.py3-none-any.whl\n",
      "Collecting pyobjc-framework-DiskArbitration==5.2 (from pyobjc>=2.4; \"darwin\" in sys_platform->pyttsx3)\n",
      "  Downloading https://files.pythonhosted.org/packages/48/44/7a5bb3dbd43ed69eef8d61fa8beafdb3404fe77d5b1fb01409935dc398c1/pyobjc_framework_DiskArbitration-5.2-py2.py3-none-any.whl\n",
      "Collecting pyobjc-framework-IMServicePlugIn==5.2; platform_release >= \"11.0\" (from pyobjc>=2.4; \"darwin\" in sys_platform->pyttsx3)\n",
      "  Downloading https://files.pythonhosted.org/packages/8b/e5/85498aac3aaed0329b5d3cd64e7f83c47fdb26877535f7c5d9e7ed23e079/pyobjc_framework_IMServicePlugIn-5.2-cp37-cp37m-macosx_10_9_x86_64.whl\n",
      "Collecting pyobjc-framework-OpenDirectory==5.2; platform_release >= \"10.0\" (from pyobjc>=2.4; \"darwin\" in sys_platform->pyttsx3)\n",
      "  Downloading https://files.pythonhosted.org/packages/b6/8e/94a32cf8ae05e0df69bd910641176e67288d2a4ee4cd4f35a6186cdb1d6c/pyobjc_framework_OpenDirectory-5.2-py2.py3-none-any.whl\n",
      "Collecting pyobjc-framework-SyncServices==5.2 (from pyobjc>=2.4; \"darwin\" in sys_platform->pyttsx3)\n",
      "  Downloading https://files.pythonhosted.org/packages/9a/9a/ec45d2651d6d62707c3fc48d77729f246e06c5bb6a2dc68ed59e159930eb/pyobjc_framework_SyncServices-5.2-cp37-cp37m-macosx_10_9_x86_64.whl\n",
      "Collecting pyobjc-framework-SecurityFoundation==5.2 (from pyobjc>=2.4; \"darwin\" in sys_platform->pyttsx3)\n",
      "  Downloading https://files.pythonhosted.org/packages/e3/c3/8a246f9bf5faa46264e68e1f8fd3fb150a02f349d3da234971b67b7e7da2/pyobjc_framework_SecurityFoundation-5.2-py2.py3-none-any.whl\n",
      "Collecting pyobjc-framework-SceneKit==5.2; platform_release >= \"11.0\" (from pyobjc>=2.4; \"darwin\" in sys_platform->pyttsx3)\n",
      "  Downloading https://files.pythonhosted.org/packages/98/73/c642bc76feddef95b291ca828dbcee05f6ca622a897f72af589b4315a1d4/pyobjc_framework_SceneKit-5.2-cp37-cp37m-macosx_10_9_x86_64.whl\n",
      "Collecting pyobjc-framework-GameplayKit==5.2; platform_release >= \"15.0\" (from pyobjc>=2.4; \"darwin\" in sys_platform->pyttsx3)\n",
      "  Downloading https://files.pythonhosted.org/packages/d0/8d/360f7c383577d020f51ece081423e7dd35d63b2046d51b255557bafcd57c/pyobjc_framework_GameplayKit-5.2-cp37-cp37m-macosx_10_9_x86_64.whl\n",
      "Collecting pyobjc-framework-ContactsUI==5.2; platform_release >= \"15.0\" (from pyobjc>=2.4; \"darwin\" in sys_platform->pyttsx3)\n",
      "  Downloading https://files.pythonhosted.org/packages/e8/80/814e044c65ed6fd7febfac12fc2dbd603826d0f8bfba8691865b437509d2/pyobjc_framework_ContactsUI-5.2-cp37-cp37m-macosx_10_9_x86_64.whl\n",
      "Collecting pyobjc-framework-Collaboration==5.2; platform_release >= \"9.0\" (from pyobjc>=2.4; \"darwin\" in sys_platform->pyttsx3)\n",
      "  Downloading https://files.pythonhosted.org/packages/61/cd/1bdbb9d17934e390d87ce41b81159b3fa0b5b94152fb9cb125d3c941da45/pyobjc_framework_Collaboration-5.2-py2.py3-none-any.whl\n",
      "Collecting pyobjc-framework-VideoSubscriberAccount==5.2; platform_release >= \"18.0\" (from pyobjc>=2.4; \"darwin\" in sys_platform->pyttsx3)\n",
      "  Downloading https://files.pythonhosted.org/packages/9d/f8/fef07bb9b04359ed89acad3510ece40a75355f9b976c3ef77e3dae19df6b/pyobjc_framework_VideoSubscriberAccount-5.2-py2.py3-none-any.whl\n",
      "Collecting pyobjc-framework-QTKit==5.2; platform_release >= \"9.0\" (from pyobjc>=2.4; \"darwin\" in sys_platform->pyttsx3)\n",
      "  Downloading https://files.pythonhosted.org/packages/23/68/0594c11630cd5d39e500364b7cca591064aa95c4953ccc50896728d3f5c8/pyobjc_framework_QTKit-5.2-cp37-cp37m-macosx_10_9_x86_64.whl\n",
      "Collecting pyobjc-framework-CoreServices==5.2 (from pyobjc>=2.4; \"darwin\" in sys_platform->pyttsx3)\n",
      "  Downloading https://files.pythonhosted.org/packages/f9/66/7fdef986df0b054fe53b1a090b2d215d476ea47867ebdaf8ba8b2bb2beab/pyobjc_framework_CoreServices-5.2-cp37-cp37m-macosx_10_9_x86_64.whl\n",
      "Collecting pyobjc-framework-AppleScriptKit==5.2 (from pyobjc>=2.4; \"darwin\" in sys_platform->pyttsx3)\n",
      "  Downloading https://files.pythonhosted.org/packages/4e/36/085f4bd067d815d2e5a1584b4457123a83c5bced2d5d4e96071122381ff5/pyobjc_framework_AppleScriptKit-5.2-py2.py3-none-any.whl\n",
      "Collecting pyobjc-framework-PubSub==5.2; platform_release >= \"9.0\" (from pyobjc>=2.4; \"darwin\" in sys_platform->pyttsx3)\n",
      "  Downloading https://files.pythonhosted.org/packages/a6/6d/f2e4bab1f8a8f7ea3067cade198f1c695c47bf41464bfe9f75f0fddab839/pyobjc_framework_PubSub-5.2-py2.py3-none-any.whl\n",
      "Collecting pyobjc-framework-CoreData==5.2 (from pyobjc>=2.4; \"darwin\" in sys_platform->pyttsx3)\n",
      "  Downloading https://files.pythonhosted.org/packages/62/2b/7418433ece97767f060660b59ee40ba6c9613a5ddcb99747929a663e4c49/pyobjc_framework_CoreData-5.2-cp37-cp37m-macosx_10_9_x86_64.whl\n"
     ]
    },
    {
     "name": "stdout",
     "output_type": "stream",
     "text": [
      "Collecting pyobjc-framework-StoreKit==5.2; platform_release >= \"11.0\" (from pyobjc>=2.4; \"darwin\" in sys_platform->pyttsx3)\n",
      "  Downloading https://files.pythonhosted.org/packages/7b/ac/414b6015dc57b85ab3cb773c0c03f6ecc4ede2745f1648cfcaf7e4f4b532/pyobjc_framework_StoreKit-5.2-cp37-cp37m-macosx_10_9_x86_64.whl\n",
      "Collecting pyobjc-framework-CoreMediaIO==5.2; platform_release >= \"11.0\" (from pyobjc>=2.4; \"darwin\" in sys_platform->pyttsx3)\n",
      "  Downloading https://files.pythonhosted.org/packages/b5/96/fea0d7dad6526a17c45c578c09486a3567b8a376226faf0cc273d9131cd1/pyobjc_framework_CoreMediaIO-5.2-cp37-cp37m-macosx_10_9_x86_64.whl\n",
      "Collecting pyobjc-framework-CoreSpotlight==5.2; platform_release >= \"17.0\" (from pyobjc>=2.4; \"darwin\" in sys_platform->pyttsx3)\n",
      "  Downloading https://files.pythonhosted.org/packages/34/55/937ad36b961132bad41dbb452767052be23fa2641f624a2efd7fd95af8de/pyobjc_framework_CoreSpotlight-5.2-cp37-cp37m-macosx_10_9_x86_64.whl\n",
      "Collecting pyobjc-framework-UserNotifications==5.2; platform_release >= \"18.0\" (from pyobjc>=2.4; \"darwin\" in sys_platform->pyttsx3)\n",
      "  Downloading https://files.pythonhosted.org/packages/52/19/5c9f46490b2c61410efa12058d5af93d880ee49aadf05d98a86ff45e3894/pyobjc_framework_UserNotifications-5.2-cp37-cp37m-macosx_10_9_x86_64.whl\n",
      "Collecting pyobjc-framework-CoreLocation==5.2; platform_release >= \"10.0\" (from pyobjc>=2.4; \"darwin\" in sys_platform->pyttsx3)\n",
      "  Downloading https://files.pythonhosted.org/packages/67/6c/2cef270e6b11c42f8229310befb2f434fc540841ad804a3c0517011da4d5/pyobjc_framework_CoreLocation-5.2-cp37-cp37m-macosx_10_9_x86_64.whl\n",
      "Collecting pyobjc-framework-SearchKit==5.2 (from pyobjc>=2.4; \"darwin\" in sys_platform->pyttsx3)\n",
      "  Downloading https://files.pythonhosted.org/packages/a2/88/5b4903a4bdf800eebdbcccce1a7be02eee90619d37d5bac036279e39e0b5/pyobjc_framework_SearchKit-5.2-py2.py3-none-any.whl\n",
      "Collecting pyobjc-framework-SecurityInterface==5.2 (from pyobjc>=2.4; \"darwin\" in sys_platform->pyttsx3)\n",
      "  Downloading https://files.pythonhosted.org/packages/bb/1b/be8594a22cce922951f0505db480899baf028b1d0847c10d7b365057d427/pyobjc_framework_SecurityInterface-5.2-cp37-cp37m-macosx_10_9_x86_64.whl\n",
      "Collecting pyobjc-framework-MultipeerConnectivity==5.2; platform_release >= \"14.0\" (from pyobjc>=2.4; \"darwin\" in sys_platform->pyttsx3)\n",
      "  Downloading https://files.pythonhosted.org/packages/90/bd/81406776a3919d5dd5b5c921a6903688a17ba3c3767831018d5e7814f282/pyobjc_framework_MultipeerConnectivity-5.2-cp37-cp37m-macosx_10_9_x86_64.whl\n",
      "Collecting pyobjc-framework-MediaToolbox==5.2; platform_release >= \"13.0\" (from pyobjc>=2.4; \"darwin\" in sys_platform->pyttsx3)\n",
      "  Downloading https://files.pythonhosted.org/packages/1b/36/6df400177ba78dd62a3782fd90951afee729cdcd8460b9670caa67f2e8f1/pyobjc_framework_MediaToolbox-5.2-cp37-cp37m-macosx_10_9_x86_64.whl\n",
      "Collecting pyobjc-framework-ScreenSaver==5.2 (from pyobjc>=2.4; \"darwin\" in sys_platform->pyttsx3)\n",
      "  Downloading https://files.pythonhosted.org/packages/5d/4d/28d893677102712707dd0d2d6b6ebe81b373ea8cb13a3c5d275d7dc1af19/pyobjc_framework_ScreenSaver-5.2-cp37-cp37m-macosx_10_9_x86_64.whl\n",
      "Collecting pyobjc-framework-AppleScriptObjC==5.2; platform_release >= \"10.0\" (from pyobjc>=2.4; \"darwin\" in sys_platform->pyttsx3)\n",
      "  Downloading https://files.pythonhosted.org/packages/b2/5d/3f43de2a4cabf17a15590ee31a6f57ed3d129d9e38e9bc7b3423e00122bf/pyobjc_framework_AppleScriptObjC-5.2-py2.py3-none-any.whl\n",
      "Collecting pyobjc-framework-Intents==5.2; platform_release >= \"16.0\" (from pyobjc>=2.4; \"darwin\" in sys_platform->pyttsx3)\n",
      "  Downloading https://files.pythonhosted.org/packages/71/26/3be9a01ae8d0f11b52af515921bce8379f78a295fc8c597c20cdb60ae6d9/pyobjc_framework_Intents-5.2-cp37-cp37m-macosx_10_9_x86_64.whl\n",
      "Collecting pyobjc-framework-GameCenter==5.2; platform_release >= \"12.0\" (from pyobjc>=2.4; \"darwin\" in sys_platform->pyttsx3)\n",
      "  Downloading https://files.pythonhosted.org/packages/65/fa/6e648cb3b9f635f5a3b2e3bcaa6cd4c3bd54b7ace558fe568852929ba513/pyobjc_framework_GameCenter-5.2-cp37-cp37m-macosx_10_9_x86_64.whl\n",
      "Collecting pyobjc-framework-OSAKit==5.2 (from pyobjc>=2.4; \"darwin\" in sys_platform->pyttsx3)\n",
      "  Downloading https://files.pythonhosted.org/packages/93/e5/2d6f9300de0664017b558ea56b7ef65b1804e1cb67e38d3063cdd3bf22e2/pyobjc_framework_OSAKit-5.2-py2.py3-none-any.whl\n",
      "Collecting pyobjc-framework-DiscRecording==5.2 (from pyobjc>=2.4; \"darwin\" in sys_platform->pyttsx3)\n",
      "  Downloading https://files.pythonhosted.org/packages/24/a9/6a6eacae3e2b5fcc1f03850df29d5cbf560becf8f93ce06278128eb06b50/pyobjc_framework_DiscRecording-5.2-cp37-cp37m-macosx_10_9_x86_64.whl\n",
      "Collecting pyobjc-framework-CoreAudioKit==5.2 (from pyobjc>=2.4; \"darwin\" in sys_platform->pyttsx3)\n",
      "  Downloading https://files.pythonhosted.org/packages/f3/cb/fe1796fb4b624e4a3bac97c39db38b61ef242c5eac402b2c9c16126acbaa/pyobjc_framework_CoreAudioKit-5.2-cp37-cp37m-macosx_10_9_x86_64.whl\n",
      "Collecting pyobjc-framework-NaturalLanguage==5.2; platform_release >= \"18.0\" (from pyobjc>=2.4; \"darwin\" in sys_platform->pyttsx3)\n",
      "  Downloading https://files.pythonhosted.org/packages/44/11/255dd2f72b8a777d5c421399e4fec3284a7b6f27f06589e9ddc62ebd0ec2/pyobjc_framework_NaturalLanguage-5.2-py2.py3-none-any.whl\n",
      "Collecting pyobjc-framework-PreferencePanes==5.2 (from pyobjc>=2.4; \"darwin\" in sys_platform->pyttsx3)\n",
      "  Downloading https://files.pythonhosted.org/packages/e3/6b/84c9e3d19c064b07d7d8d1b23a48d93fdd3259315c1722806e1ebd2fc185/pyobjc_framework_PreferencePanes-5.2-py2.py3-none-any.whl\n",
      "Collecting pyobjc-framework-iTunesLibrary==5.2; platform_release >= \"10.0\" (from pyobjc>=2.4; \"darwin\" in sys_platform->pyttsx3)\n",
      "  Downloading https://files.pythonhosted.org/packages/3d/eb/05bf2463a5c63f2407b808f5495fa4395e0afa6aff683ee66769518f7105/pyobjc_framework_iTunesLibrary-5.2-py2.py3-none-any.whl\n",
      "Collecting pyobjc-framework-CloudKit==5.2; platform_release >= \"14.0\" (from pyobjc>=2.4; \"darwin\" in sys_platform->pyttsx3)\n",
      "  Downloading https://files.pythonhosted.org/packages/7d/9a/1868c253e270a8ccf8c71eb9066fcf9b3a4f3dc98f768166505ecd0f1b61/pyobjc_framework_CloudKit-5.2-py2.py3-none-any.whl\n",
      "Collecting pyobjc-framework-CoreMedia==5.2; platform_release >= \"11.0\" (from pyobjc>=2.4; \"darwin\" in sys_platform->pyttsx3)\n",
      "  Downloading https://files.pythonhosted.org/packages/75/14/fa3998e72f6cd5299255aa6e11655db0e3d655180e7eaeb825b007c0dc1c/pyobjc_framework_CoreMedia-5.2-cp37-cp37m-macosx_10_9_x86_64.whl\n",
      "Collecting pyobjc-framework-ScriptingBridge==5.2; platform_release >= \"9.0\" (from pyobjc>=2.4; \"darwin\" in sys_platform->pyttsx3)\n",
      "  Downloading https://files.pythonhosted.org/packages/3d/1a/af988885ad3eb7f54ab63730b167ee822b0d1172db53bc0b00281aaa7988/pyobjc_framework_ScriptingBridge-5.2-cp37-cp37m-macosx_10_9_x86_64.whl\n",
      "Collecting pyobjc-framework-CoreML==5.2; platform_release >= \"17.0\" (from pyobjc>=2.4; \"darwin\" in sys_platform->pyttsx3)\n",
      "  Downloading https://files.pythonhosted.org/packages/f4/65/0e2e170dff9d53283b092a1c22ec0f6d626d6653a6a29c063b90d5fd7beb/pyobjc_framework_CoreML-5.2-cp37-cp37m-macosx_10_9_x86_64.whl\n",
      "Collecting pyobjc-framework-MediaLibrary==5.2; platform_release >= \"13.0\" (from pyobjc>=2.4; \"darwin\" in sys_platform->pyttsx3)\n",
      "  Downloading https://files.pythonhosted.org/packages/06/55/516a904e00d221650273bcb248b598e1275fa82ac2aea877128a5f42952b/pyobjc_framework_MediaLibrary-5.2-py2.py3-none-any.whl\n",
      "Collecting pyobjc-framework-MediaPlayer==5.2; platform_release >= \"16.0\" (from pyobjc>=2.4; \"darwin\" in sys_platform->pyttsx3)\n",
      "  Downloading https://files.pythonhosted.org/packages/7b/fb/05edcb0211774cc8e4132798ad078d3581ea77b4ccaeeee769a24654100d/pyobjc_framework_MediaPlayer-5.2-py2.py3-none-any.whl\n",
      "Collecting pyobjc-framework-CoreBluetooth==5.2; platform_release >= \"14.0\" (from pyobjc>=2.4; \"darwin\" in sys_platform->pyttsx3)\n",
      "  Downloading https://files.pythonhosted.org/packages/7d/a4/0e1b1d389ae3ca5c40dfdd647b752c7efa11bb2df1eaa78a5f0135ad3f0f/pyobjc_framework_CoreBluetooth-5.2-cp37-cp37m-macosx_10_9_x86_64.whl\n",
      "Collecting pyobjc-framework-CFNetwork==5.2 (from pyobjc>=2.4; \"darwin\" in sys_platform->pyttsx3)\n",
      "  Downloading https://files.pythonhosted.org/packages/6b/50/f6a15646b47ceccf3f243b1820cb94e6044009629c4d8033899e40a6b72c/pyobjc_framework_CFNetwork-5.2-cp37-cp37m-macosx_10_9_x86_64.whl\n"
     ]
    },
    {
     "name": "stdout",
     "output_type": "stream",
     "text": [
      "Collecting pyobjc-framework-MediaAccessibility==5.2; platform_release >= \"13.0\" (from pyobjc>=2.4; \"darwin\" in sys_platform->pyttsx3)\n",
      "  Downloading https://files.pythonhosted.org/packages/b0/3a/351a1d31e54ebe3cd88fe938a0b7d3548e60d5cb12d86e8b11c3afd20af1/pyobjc_framework_MediaAccessibility-5.2-py2.py3-none-any.whl\n",
      "Collecting pyobjc-framework-AdSupport==5.2; platform_release >= \"18.0\" (from pyobjc>=2.4; \"darwin\" in sys_platform->pyttsx3)\n",
      "  Downloading https://files.pythonhosted.org/packages/ef/c2/eb81c9fdfb43a3419aac498759d182fe44fc40cc369d02fbd738e25756db/pyobjc_framework_AdSupport-5.2-py2.py3-none-any.whl\n",
      "Collecting pyobjc-framework-IOSurface==5.2; platform_release >= \"10.0\" (from pyobjc>=2.4; \"darwin\" in sys_platform->pyttsx3)\n",
      "  Downloading https://files.pythonhosted.org/packages/f1/c9/f2be4f2d329ec32b3cea8756366c037923142ffbc3d7b084eaa1bae1d4a6/pyobjc_framework_IOSurface-5.2-py2.py3-none-any.whl\n",
      "Collecting pyobjc-framework-ServiceManagement==5.2; platform_release >= \"10.0\" (from pyobjc>=2.4; \"darwin\" in sys_platform->pyttsx3)\n",
      "  Downloading https://files.pythonhosted.org/packages/e2/ce/16ff3d1d857a548591e9eef8e02db3d37f364488290bff9ac48b26f9e01a/pyobjc_framework_ServiceManagement-5.2-py2.py3-none-any.whl\n",
      "Collecting pyobjc-framework-GameController==5.2; platform_release >= \"13.0\" (from pyobjc>=2.4; \"darwin\" in sys_platform->pyttsx3)\n",
      "  Downloading https://files.pythonhosted.org/packages/c6/48/0e5ef7353f2d704be98756c17bbd73a3a1c007e43309b13ab53901732ffc/pyobjc_framework_GameController-5.2-py2.py3-none-any.whl\n",
      "Collecting pyobjc-framework-Automator==5.2 (from pyobjc>=2.4; \"darwin\" in sys_platform->pyttsx3)\n",
      "  Downloading https://files.pythonhosted.org/packages/b2/72/29b8f36f02ffac4bc6b094d4e5e0d5bf1a923c7a87d1a2a6d6d98c049bea/pyobjc_framework_Automator-5.2-py2.py3-none-any.whl\n",
      "Collecting pyobjc-framework-ExceptionHandling==5.2 (from pyobjc>=2.4; \"darwin\" in sys_platform->pyttsx3)\n",
      "  Downloading https://files.pythonhosted.org/packages/00/8f/fcf122adb1e98dbdb57f8abaf73e8957bdf075e05e9c2cd19a527e19fb8d/pyobjc_framework_ExceptionHandling-5.2-py2.py3-none-any.whl\n",
      "Collecting pyobjc-framework-DiscRecordingUI==5.2 (from pyobjc>=2.4; \"darwin\" in sys_platform->pyttsx3)\n",
      "  Downloading https://files.pythonhosted.org/packages/d7/9e/c2861286f7eb27af27eb55835fa37e2ec7acb104e635f3aeeb2df61b7f16/pyobjc_framework_DiscRecordingUI-5.2-py2.py3-none-any.whl\n",
      "Collecting pyobjc-core==5.2 (from pyobjc>=2.4; \"darwin\" in sys_platform->pyttsx3)\n",
      "\u001b[?25l  Downloading https://files.pythonhosted.org/packages/c8/ba/cb2f5b8a6c78de08b89f7f90cddbde3b10a8392b8350c0a0cf92120c5f43/pyobjc_core-5.2-cp37-cp37m-macosx_10_9_x86_64.whl (294kB)\n",
      "\u001b[K    100% |████████████████████████████████| 296kB 2.3MB/s ta 0:00:01\n",
      "\u001b[?25hCollecting pyobjc-framework-EventKit==5.2; platform_release >= \"12.0\" (from pyobjc>=2.4; \"darwin\" in sys_platform->pyttsx3)\n",
      "  Downloading https://files.pythonhosted.org/packages/e4/60/19c296f98117bc3557c95c0003dfc725bcb18e59b519b94f4ebc16085a43/pyobjc_framework_EventKit-5.2-py2.py3-none-any.whl\n",
      "Collecting pyobjc-framework-AVFoundation==5.2; platform_release >= \"11.0\" (from pyobjc>=2.4; \"darwin\" in sys_platform->pyttsx3)\n",
      "  Downloading https://files.pythonhosted.org/packages/8c/0b/27ea2d98d164eb080c3118cfaf87a8d7ead5402f4859136ebdb82185284f/pyobjc_framework_AVFoundation-5.2-cp37-cp37m-macosx_10_9_x86_64.whl\n",
      "Collecting pyobjc-framework-CalendarStore==5.2; platform_release >= \"9.0\" (from pyobjc>=2.4; \"darwin\" in sys_platform->pyttsx3)\n",
      "  Downloading https://files.pythonhosted.org/packages/01/08/fb38ba75f94bd11122b6b4e54663f336c0daf56a511820f2dab9f64d35da/pyobjc_framework_CalendarStore-5.2-py2.py3-none-any.whl\n",
      "Collecting pyobjc-framework-PhotosUI==5.2; platform_release >= \"15.0\" (from pyobjc>=2.4; \"darwin\" in sys_platform->pyttsx3)\n",
      "  Downloading https://files.pythonhosted.org/packages/cf/bf/68751a87a2161aa99116ceea1b7509a495e348b91786995d42271f7e9a56/pyobjc_framework_PhotosUI-5.2-cp37-cp37m-macosx_10_9_x86_64.whl\n",
      "Collecting pyobjc-framework-ModelIO==5.2; platform_release >= \"15.0\" (from pyobjc>=2.4; \"darwin\" in sys_platform->pyttsx3)\n",
      "  Downloading https://files.pythonhosted.org/packages/49/06/866f611120f9faa811a15c4fadaa4268d5d5f131066b705073f9b53c0d10/pyobjc_framework_ModelIO-5.2-cp37-cp37m-macosx_10_9_x86_64.whl\n",
      "Collecting pyobjc-framework-GameKit==5.2; platform_release >= \"12.0\" (from pyobjc>=2.4; \"darwin\" in sys_platform->pyttsx3)\n",
      "  Downloading https://files.pythonhosted.org/packages/10/04/bc4dfc7659d1d8ec74f3390ed738eac8a447109d0157f8ae66987cac03c8/pyobjc_framework_GameKit-5.2-cp37-cp37m-macosx_10_9_x86_64.whl\n",
      "Collecting pyobjc-framework-Security==5.2 (from pyobjc>=2.4; \"darwin\" in sys_platform->pyttsx3)\n",
      "  Downloading https://files.pythonhosted.org/packages/8c/85/bbdc2d2128f71656a00b3d15aad80c8ce1d2cb19211099a45015678fa871/pyobjc_framework_Security-5.2-cp37-cp37m-macosx_10_9_x86_64.whl\n",
      "Collecting pyobjc-framework-DVDPlayback==5.2 (from pyobjc>=2.4; \"darwin\" in sys_platform->pyttsx3)\n",
      "  Downloading https://files.pythonhosted.org/packages/a7/aa/8e3dc196999d792332964c3a8a5f874520aa058613214d046a1be5802c4b/pyobjc_framework_DVDPlayback-5.2-py2.py3-none-any.whl\n",
      "Collecting pyobjc-framework-AddressBook==5.2 (from pyobjc>=2.4; \"darwin\" in sys_platform->pyttsx3)\n",
      "  Downloading https://files.pythonhosted.org/packages/36/34/0e9a7f68d85276c9ebcc64d37bef7f21befd5d76a5f022b51adc8edc62d2/pyobjc_framework_AddressBook-5.2-cp37-cp37m-macosx_10_9_x86_64.whl\n",
      "Collecting pyobjc-framework-WebKit==5.2 (from pyobjc>=2.4; \"darwin\" in sys_platform->pyttsx3)\n",
      "  Downloading https://files.pythonhosted.org/packages/c8/67/e7b95cbc6047bd30b94e10654550e8690d20c1f5cd5e46db931237b5f2b7/pyobjc_framework_WebKit-5.2-cp37-cp37m-macosx_10_9_x86_64.whl\n",
      "Collecting pyobjc-framework-CoreAudio==5.2 (from pyobjc>=2.4; \"darwin\" in sys_platform->pyttsx3)\n",
      "  Downloading https://files.pythonhosted.org/packages/bd/03/40a9b4822a0289c4dc3d83cd846b30e2f913d2e0ffc16419a1cfc67c7559/pyobjc_framework_CoreAudio-5.2-cp37-cp37m-macosx_10_9_x86_64.whl\n",
      "Collecting pyobjc-framework-AVKit==5.2; platform_release >= \"13.0\" (from pyobjc>=2.4; \"darwin\" in sys_platform->pyttsx3)\n",
      "  Downloading https://files.pythonhosted.org/packages/9a/bc/5dd2327b615b836b2616dd73db420c7b0573e55a372f2800b3fa74df8087/pyobjc_framework_AVKit-5.2-cp37-cp37m-macosx_10_9_x86_64.whl\n",
      "Collecting pyobjc-framework-LocalAuthentication==5.2; platform_release >= \"14.0\" (from pyobjc>=2.4; \"darwin\" in sys_platform->pyttsx3)\n",
      "  Downloading https://files.pythonhosted.org/packages/6b/e5/5f4e8a34925d792232cee0811e6cccfc276a190628716bfe1854e07261a6/pyobjc_framework_LocalAuthentication-5.2-py2.py3-none-any.whl\n",
      "Collecting pyobjc-framework-CoreText==5.2 (from pyobjc>=2.4; \"darwin\" in sys_platform->pyttsx3)\n",
      "  Downloading https://files.pythonhosted.org/packages/44/69/a8ef8b9186cc688a259c9e8be32bb63ca74889c3f667f795e19d2628faac/pyobjc_framework_CoreText-5.2-cp37-cp37m-macosx_10_9_x86_64.whl\n",
      "Collecting pyobjc-framework-MapKit==5.2; platform_release >= \"13.0\" (from pyobjc>=2.4; \"darwin\" in sys_platform->pyttsx3)\n",
      "  Downloading https://files.pythonhosted.org/packages/98/a1/e5ebded535226c82dbafdda410823e6af1fe317e0bf4638065a4759c8713/pyobjc_framework_MapKit-5.2-cp37-cp37m-macosx_10_9_x86_64.whl\n",
      "Collecting pyobjc-framework-NotificationCenter==5.2; platform_release >= \"14.0\" (from pyobjc>=2.4; \"darwin\" in sys_platform->pyttsx3)\n",
      "  Downloading https://files.pythonhosted.org/packages/1d/ad/3855b5bdc80eee43feaa457bb4a11a8ed4813fc1b86b292bf76ae5efea8f/pyobjc_framework_NotificationCenter-5.2-cp37-cp37m-macosx_10_9_x86_64.whl\n",
      "Collecting pyobjc-framework-Accounts==5.2; platform_release >= \"12.0\" (from pyobjc>=2.4; \"darwin\" in sys_platform->pyttsx3)\n",
      "  Downloading https://files.pythonhosted.org/packages/69/f2/f3e9b844209f624d4666c0a410bd98b9451841de43e3e6683b65dfbd88bb/pyobjc_framework_Accounts-5.2-py2.py3-none-any.whl\n",
      "Collecting pyobjc-framework-Vision==5.2; platform_release >= \"17.0\" (from pyobjc>=2.4; \"darwin\" in sys_platform->pyttsx3)\n",
      "  Downloading https://files.pythonhosted.org/packages/05/2e/1d1d6bc02f9f1a704d69bdc4bdfbaebfa1cc02c19e47779c480e8dcffc89/pyobjc_framework_Vision-5.2-cp37-cp37m-macosx_10_9_x86_64.whl\n",
      "Collecting pyobjc-framework-CoreWLAN==5.2; platform_release >= \"10.0\" (from pyobjc>=2.4; \"darwin\" in sys_platform->pyttsx3)\n"
     ]
    },
    {
     "name": "stdout",
     "output_type": "stream",
     "text": [
      "  Downloading https://files.pythonhosted.org/packages/2b/56/ab53e2307aabb06deebbf16e99eb1e1c7090195dc3d59872ff60b4c9cc51/pyobjc_framework_CoreWLAN-5.2-cp37-cp37m-macosx_10_9_x86_64.whl\n",
      "Collecting pyobjc-framework-Quartz==5.2 (from pyobjc>=2.4; \"darwin\" in sys_platform->pyttsx3)\n",
      "\u001b[?25l  Downloading https://files.pythonhosted.org/packages/67/3e/8d4fe867b8af8826d7c319eb45e9126667fac8ef676698e5ebcd24d7f9a5/pyobjc_framework_Quartz-5.2-cp37-cp37m-macosx_10_9_x86_64.whl (100kB)\n",
      "\u001b[K    100% |████████████████████████████████| 102kB 909kB/s a 0:00:01\n",
      "\u001b[?25hCollecting pyobjc-framework-Network==5.2; platform_release >= \"18.0\" (from pyobjc>=2.4; \"darwin\" in sys_platform->pyttsx3)\n",
      "  Downloading https://files.pythonhosted.org/packages/ee/4c/2b90fa3f8f3efd711e38cbafec981dae381bdaa4eb971039ddd1f30b6602/pyobjc_framework_Network-5.2-cp37-cp37m-macosx_10_9_x86_64.whl\n",
      "Collecting pyobjc-framework-Social==5.2; platform_release >= \"12.0\" (from pyobjc>=2.4; \"darwin\" in sys_platform->pyttsx3)\n",
      "  Downloading https://files.pythonhosted.org/packages/d1/cf/627df1ff75b9e9ffbcaa9792de2469afc419136d572fd6ed3124060f9188/pyobjc_framework_Social-5.2-py2.py3-none-any.whl\n",
      "Collecting pyobjc-framework-ExternalAccessory==5.2; platform_release >= \"17.0\" (from pyobjc>=2.4; \"darwin\" in sys_platform->pyttsx3)\n",
      "  Downloading https://files.pythonhosted.org/packages/aa/6f/8e2ff68be1c189ab65be35f02f05b7219503840e13cabd702e6892dcedf5/pyobjc_framework_ExternalAccessory-5.2-cp37-cp37m-macosx_10_9_x86_64.whl\n",
      "Collecting pyobjc-framework-SystemConfiguration==5.2 (from pyobjc>=2.4; \"darwin\" in sys_platform->pyttsx3)\n",
      "  Downloading https://files.pythonhosted.org/packages/d1/57/155e1b8533804291f16b5722be27fb10b825f1a7da09d5edaa4bd84e8923/pyobjc_framework_SystemConfiguration-5.2-cp37-cp37m-macosx_10_9_x86_64.whl\n",
      "Collecting pyobjc-framework-LaunchServices==5.2 (from pyobjc>=2.4; \"darwin\" in sys_platform->pyttsx3)\n",
      "  Downloading https://files.pythonhosted.org/packages/57/c2/6ce62bbd23b2926f023d23544ceedabf268351b887d4af66ddd6eb3d8233/pyobjc_framework_LaunchServices-5.2-py2.py3-none-any.whl\n",
      "Collecting pyobjc-framework-InstantMessage==5.2; platform_release >= \"9.0\" (from pyobjc>=2.4; \"darwin\" in sys_platform->pyttsx3)\n",
      "  Downloading https://files.pythonhosted.org/packages/19/65/438678e7c40f3ccdcf6717d312b5f8616478bfb2d0c7109d7f50e2b8e60c/pyobjc_framework_InstantMessage-5.2-py2.py3-none-any.whl\n",
      "Collecting pyobjc-framework-NetworkExtension==5.2; platform_release >= \"15.0\" (from pyobjc>=2.4; \"darwin\" in sys_platform->pyttsx3)\n",
      "  Downloading https://files.pythonhosted.org/packages/46/70/c7c64808106d32ef035323ea39324577dd28071098dd09ee3e73faa2d90b/pyobjc_framework_NetworkExtension-5.2-cp37-cp37m-macosx_10_9_x86_64.whl\n",
      "Collecting pyobjc-framework-ApplicationServices==5.2 (from pyobjc>=2.4; \"darwin\" in sys_platform->pyttsx3)\n",
      "  Downloading https://files.pythonhosted.org/packages/90/0d/fa04ab8ad24e3ed22d63f544a86b4ab56fee7f8cc6ceeaa27ea28235f80d/pyobjc_framework_ApplicationServices-5.2-py2.py3-none-any.whl\n",
      "Collecting pyobjc-framework-FSEvents==5.2; platform_release >= \"9.0\" (from pyobjc>=2.4; \"darwin\" in sys_platform->pyttsx3)\n",
      "  Downloading https://files.pythonhosted.org/packages/86/31/951d393869921fdeb0eaf77ee70ad4d4e6d30c82704ba5ef25ed7d994a09/pyobjc_framework_FSEvents-5.2-cp37-cp37m-macosx_10_9_x86_64.whl\n",
      "Collecting pyobjc-framework-BusinessChat==5.2; platform_release >= \"18.0\" (from pyobjc>=2.4; \"darwin\" in sys_platform->pyttsx3)\n",
      "  Downloading https://files.pythonhosted.org/packages/31/90/0b26c9fe501da6c6cc4672f786b167289833a6014887cb2f58c4317d37f7/pyobjc_framework_BusinessChat-5.2-py2.py3-none-any.whl\n",
      "Collecting pyobjc-framework-VideoToolbox==5.2; platform_release >= \"12.0\" (from pyobjc>=2.4; \"darwin\" in sys_platform->pyttsx3)\n",
      "  Downloading https://files.pythonhosted.org/packages/8f/02/2562dd70b03584d342915a709b153be70e7618ca3c99e6df3961e9de4dbf/pyobjc_framework_VideoToolbox-5.2-cp37-cp37m-macosx_10_9_x86_64.whl\n",
      "Collecting pyobjc-framework-LatentSemanticMapping==5.2 (from pyobjc>=2.4; \"darwin\" in sys_platform->pyttsx3)\n",
      "  Downloading https://files.pythonhosted.org/packages/3d/77/140e2f7c0c74e8bee63af84b1f6a9e5e33da094246dfe68c9d6ee773af00/pyobjc_framework_LatentSemanticMapping-5.2-py2.py3-none-any.whl\n",
      "Collecting pyobjc-framework-Cocoa==5.2 (from pyobjc>=2.4; \"darwin\" in sys_platform->pyttsx3)\n",
      "\u001b[?25l  Downloading https://files.pythonhosted.org/packages/fb/67/697f392aadf661488ef8590ffdd2a7734fa1db999a2830c136276929c58c/pyobjc_framework_Cocoa-5.2-cp37-cp37m-macosx_10_9_x86_64.whl (235kB)\n",
      "\u001b[K    100% |████████████████████████████████| 235kB 1.1MB/s ta 0:00:01\n",
      "\u001b[?25hCollecting pyobjc-framework-libdispatch==5.2; platform_release >= \"12.0\" (from pyobjc>=2.4; \"darwin\" in sys_platform->pyttsx3)\n",
      "  Downloading https://files.pythonhosted.org/packages/c3/5a/9c7ca08e34a20e7a5ad991842aa8babc716632415bbe947c4ca158076f93/pyobjc_framework_libdispatch-5.2-cp37-cp37m-macosx_10_9_x86_64.whl\n",
      "Collecting pyobjc-framework-SpriteKit==5.2; platform_release >= \"13.0\" (from pyobjc>=2.4; \"darwin\" in sys_platform->pyttsx3)\n",
      "  Downloading https://files.pythonhosted.org/packages/69/c2/f12abcaeeda188c95e70c263175cdf7d97633b609fadea1a4ada01f7c553/pyobjc_framework_SpriteKit-5.2-cp37-cp37m-macosx_10_9_x86_64.whl\n",
      "Installing collected packages: pyobjc-core, pyobjc-framework-Cocoa, pyobjc-framework-InstallerPlugins, pyobjc-framework-InputMethodKit, pyobjc-framework-CryptoTokenKit, pyobjc-framework-NetFS, pyobjc-framework-Photos, pyobjc-framework-ColorSync, pyobjc-framework-FinderSync, pyobjc-framework-Contacts, pyobjc-framework-SafariServices, pyobjc-framework-ImageCaptureCore, pyobjc-framework-FSEvents, pyobjc-framework-CoreServices, pyobjc-framework-DictionaryServices, pyobjc-framework-DiskArbitration, pyobjc-framework-IMServicePlugIn, pyobjc-framework-OpenDirectory, pyobjc-framework-CoreData, pyobjc-framework-SyncServices, pyobjc-framework-Security, pyobjc-framework-SecurityFoundation, pyobjc-framework-Quartz, pyobjc-framework-SceneKit, pyobjc-framework-SpriteKit, pyobjc-framework-GameplayKit, pyobjc-framework-ContactsUI, pyobjc-framework-Collaboration, pyobjc-framework-VideoSubscriberAccount, pyobjc-framework-QTKit, pyobjc-framework-AppleScriptKit, pyobjc-framework-PubSub, pyobjc-framework-StoreKit, pyobjc-framework-CoreMediaIO, pyobjc-framework-CoreSpotlight, pyobjc-framework-UserNotifications, pyobjc-framework-CoreLocation, pyobjc-framework-SearchKit, pyobjc-framework-SecurityInterface, pyobjc-framework-MultipeerConnectivity, pyobjc-framework-MediaToolbox, pyobjc-framework-ScreenSaver, pyobjc-framework-AppleScriptObjC, pyobjc-framework-Intents, pyobjc-framework-GameCenter, pyobjc-framework-OSAKit, pyobjc-framework-DiscRecording, pyobjc-framework-CoreAudio, pyobjc-framework-CoreAudioKit, pyobjc-framework-NaturalLanguage, pyobjc-framework-PreferencePanes, pyobjc-framework-iTunesLibrary, pyobjc-framework-Accounts, pyobjc-framework-CloudKit, pyobjc-framework-CoreMedia, pyobjc-framework-ScriptingBridge, pyobjc-framework-CoreML, pyobjc-framework-MediaLibrary, pyobjc-framework-AVFoundation, pyobjc-framework-MediaPlayer, pyobjc-framework-CoreBluetooth, pyobjc-framework-CFNetwork, pyobjc-framework-MediaAccessibility, pyobjc-framework-AdSupport, pyobjc-framework-IOSurface, pyobjc-framework-ServiceManagement, pyobjc-framework-GameController, pyobjc-framework-Automator, pyobjc-framework-ExceptionHandling, pyobjc-framework-DiscRecordingUI, pyobjc-framework-EventKit, pyobjc-framework-CalendarStore, pyobjc-framework-PhotosUI, pyobjc-framework-ModelIO, pyobjc-framework-GameKit, pyobjc-framework-DVDPlayback, pyobjc-framework-AddressBook, pyobjc-framework-WebKit, pyobjc-framework-AVKit, pyobjc-framework-LocalAuthentication, pyobjc-framework-CoreText, pyobjc-framework-MapKit, pyobjc-framework-NotificationCenter, pyobjc-framework-Vision, pyobjc-framework-CoreWLAN, pyobjc-framework-Network, pyobjc-framework-Social, pyobjc-framework-ExternalAccessory, pyobjc-framework-SystemConfiguration, pyobjc-framework-LaunchServices, pyobjc-framework-InstantMessage, pyobjc-framework-NetworkExtension, pyobjc-framework-ApplicationServices, pyobjc-framework-BusinessChat, pyobjc-framework-VideoToolbox, pyobjc-framework-LatentSemanticMapping, pyobjc-framework-libdispatch, pyobjc, pyttsx3\n"
     ]
    },
    {
     "name": "stdout",
     "output_type": "stream",
     "text": [
      "Successfully installed pyobjc-5.2 pyobjc-core-5.2 pyobjc-framework-AVFoundation-5.2 pyobjc-framework-AVKit-5.2 pyobjc-framework-Accounts-5.2 pyobjc-framework-AdSupport-5.2 pyobjc-framework-AddressBook-5.2 pyobjc-framework-AppleScriptKit-5.2 pyobjc-framework-AppleScriptObjC-5.2 pyobjc-framework-ApplicationServices-5.2 pyobjc-framework-Automator-5.2 pyobjc-framework-BusinessChat-5.2 pyobjc-framework-CFNetwork-5.2 pyobjc-framework-CalendarStore-5.2 pyobjc-framework-CloudKit-5.2 pyobjc-framework-Cocoa-5.2 pyobjc-framework-Collaboration-5.2 pyobjc-framework-ColorSync-5.2 pyobjc-framework-Contacts-5.2 pyobjc-framework-ContactsUI-5.2 pyobjc-framework-CoreAudio-5.2 pyobjc-framework-CoreAudioKit-5.2 pyobjc-framework-CoreBluetooth-5.2 pyobjc-framework-CoreData-5.2 pyobjc-framework-CoreLocation-5.2 pyobjc-framework-CoreML-5.2 pyobjc-framework-CoreMedia-5.2 pyobjc-framework-CoreMediaIO-5.2 pyobjc-framework-CoreServices-5.2 pyobjc-framework-CoreSpotlight-5.2 pyobjc-framework-CoreText-5.2 pyobjc-framework-CoreWLAN-5.2 pyobjc-framework-CryptoTokenKit-5.2 pyobjc-framework-DVDPlayback-5.2 pyobjc-framework-DictionaryServices-5.2 pyobjc-framework-DiscRecording-5.2 pyobjc-framework-DiscRecordingUI-5.2 pyobjc-framework-DiskArbitration-5.2 pyobjc-framework-EventKit-5.2 pyobjc-framework-ExceptionHandling-5.2 pyobjc-framework-ExternalAccessory-5.2 pyobjc-framework-FSEvents-5.2 pyobjc-framework-FinderSync-5.2 pyobjc-framework-GameCenter-5.2 pyobjc-framework-GameController-5.2 pyobjc-framework-GameKit-5.2 pyobjc-framework-GameplayKit-5.2 pyobjc-framework-IMServicePlugIn-5.2 pyobjc-framework-IOSurface-5.2 pyobjc-framework-ImageCaptureCore-5.2 pyobjc-framework-InputMethodKit-5.2 pyobjc-framework-InstallerPlugins-5.2 pyobjc-framework-InstantMessage-5.2 pyobjc-framework-Intents-5.2 pyobjc-framework-LatentSemanticMapping-5.2 pyobjc-framework-LaunchServices-5.2 pyobjc-framework-LocalAuthentication-5.2 pyobjc-framework-MapKit-5.2 pyobjc-framework-MediaAccessibility-5.2 pyobjc-framework-MediaLibrary-5.2 pyobjc-framework-MediaPlayer-5.2 pyobjc-framework-MediaToolbox-5.2 pyobjc-framework-ModelIO-5.2 pyobjc-framework-MultipeerConnectivity-5.2 pyobjc-framework-NaturalLanguage-5.2 pyobjc-framework-NetFS-5.2 pyobjc-framework-Network-5.2 pyobjc-framework-NetworkExtension-5.2 pyobjc-framework-NotificationCenter-5.2 pyobjc-framework-OSAKit-5.2 pyobjc-framework-OpenDirectory-5.2 pyobjc-framework-Photos-5.2 pyobjc-framework-PhotosUI-5.2 pyobjc-framework-PreferencePanes-5.2 pyobjc-framework-PubSub-5.2 pyobjc-framework-QTKit-5.2 pyobjc-framework-Quartz-5.2 pyobjc-framework-SafariServices-5.2 pyobjc-framework-SceneKit-5.2 pyobjc-framework-ScreenSaver-5.2 pyobjc-framework-ScriptingBridge-5.2 pyobjc-framework-SearchKit-5.2 pyobjc-framework-Security-5.2 pyobjc-framework-SecurityFoundation-5.2 pyobjc-framework-SecurityInterface-5.2 pyobjc-framework-ServiceManagement-5.2 pyobjc-framework-Social-5.2 pyobjc-framework-SpriteKit-5.2 pyobjc-framework-StoreKit-5.2 pyobjc-framework-SyncServices-5.2 pyobjc-framework-SystemConfiguration-5.2 pyobjc-framework-UserNotifications-5.2 pyobjc-framework-VideoSubscriberAccount-5.2 pyobjc-framework-VideoToolbox-5.2 pyobjc-framework-Vision-5.2 pyobjc-framework-WebKit-5.2 pyobjc-framework-iTunesLibrary-5.2 pyobjc-framework-libdispatch-5.2 pyttsx3-2.71\r\n"
     ]
    }
   ],
   "source": [
    "!pip install pyttsx3"
   ]
  },
  {
   "cell_type": "code",
   "execution_count": 53,
   "metadata": {},
   "outputs": [],
   "source": [
    "import pyttsx3"
   ]
  },
  {
   "cell_type": "code",
   "execution_count": 54,
   "metadata": {},
   "outputs": [],
   "source": [
    "engine = pyttsx3.init()"
   ]
  },
  {
   "cell_type": "code",
   "execution_count": 57,
   "metadata": {},
   "outputs": [],
   "source": [
    "engine.say('Congratulation! You are good to go. if you like please comment below and let us know')\n",
    "engine.runAndWait()"
   ]
  },
  {
   "cell_type": "code",
   "execution_count": null,
   "metadata": {},
   "outputs": [],
   "source": []
  }
 ],
 "metadata": {
  "kernelspec": {
   "display_name": "Python 3",
   "language": "python",
   "name": "python3"
  },
  "language_info": {
   "codemirror_mode": {
    "name": "ipython",
    "version": 3
   },
   "file_extension": ".py",
   "mimetype": "text/x-python",
   "name": "python",
   "nbconvert_exporter": "python",
   "pygments_lexer": "ipython3",
   "version": "3.7.3"
  }
 },
 "nbformat": 4,
 "nbformat_minor": 2
}
